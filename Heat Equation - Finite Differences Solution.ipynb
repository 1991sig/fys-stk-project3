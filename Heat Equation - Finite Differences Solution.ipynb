{
 "cells": [
  {
   "cell_type": "code",
   "execution_count": 1,
   "metadata": {},
   "outputs": [
    {
     "data": {
      "text/plain": [
       "<module 'HeatEquation' from '/Users/sigurd/Documents/Projects/Skole/Høst 2019/FYS-STK3155/Applied Data Analysis & Machine Learning/fys-stk-project3/HeatEquation.py'>"
      ]
     },
     "execution_count": 1,
     "metadata": {},
     "output_type": "execute_result"
    }
   ],
   "source": [
    "import numpy as np\n",
    "import importlib\n",
    "import HeatEquation\n",
    "import matplotlib.pyplot as plt\n",
    "from matplotlib import cm\n",
    "from mpl_toolkits.mplot3d import axes3d\n",
    "importlib.reload(HeatEquation)"
   ]
  },
  {
   "cell_type": "code",
   "execution_count": 2,
   "metadata": {},
   "outputs": [],
   "source": [
    "%matplotlib widget"
   ]
  },
  {
   "cell_type": "markdown",
   "metadata": {},
   "source": [
    "### Initial Value Condition\n",
    "\n",
    "The solution must satisfy the initial value $$u(x, 0) = f(x) = sin(\\pi x)$$"
   ]
  },
  {
   "cell_type": "code",
   "execution_count": 7,
   "metadata": {},
   "outputs": [],
   "source": [
    "def f(x):\n",
    "    return np.sin(np.pi * x)"
   ]
  },
  {
   "cell_type": "markdown",
   "metadata": {},
   "source": [
    "### Setup\n",
    "\n",
    "Setting up the model for solving the heat equation with the following parameters:\n",
    "\n",
    "- dx = 0.1\n",
    "- dt = 0.00025\n",
    "- L = 1\n",
    "- T = 1"
   ]
  },
  {
   "cell_type": "code",
   "execution_count": 8,
   "metadata": {},
   "outputs": [],
   "source": [
    "m1 = HeatEquation.HeatEquation(f, L=1, T=1, dx=0.1, dt=0.00025)"
   ]
  },
  {
   "cell_type": "markdown",
   "metadata": {},
   "source": [
    "Run the explicit Euler method and store solutions internally."
   ]
  },
  {
   "cell_type": "code",
   "execution_count": 9,
   "metadata": {},
   "outputs": [],
   "source": [
    "m1.ExplicitEuler()"
   ]
  },
  {
   "cell_type": "markdown",
   "metadata": {},
   "source": [
    "Checking that the solution is calculated."
   ]
  },
  {
   "cell_type": "code",
   "execution_count": 10,
   "metadata": {},
   "outputs": [
    {
     "data": {
      "text/plain": [
       "True"
      ]
     },
     "execution_count": 10,
     "metadata": {},
     "output_type": "execute_result"
    }
   ],
   "source": [
    "m1.IsSolved"
   ]
  },
  {
   "cell_type": "markdown",
   "metadata": {},
   "source": [
    "### Plotting the Solution"
   ]
  },
  {
   "cell_type": "code",
   "execution_count": 11,
   "metadata": {},
   "outputs": [],
   "source": [
    "t, x, g = m1.t, m1.x, m1.g\n",
    "T_g, X_g = np.meshgrid(t, x)"
   ]
  },
  {
   "cell_type": "markdown",
   "metadata": {},
   "source": [
    "The explicit Euler method solution:"
   ]
  },
  {
   "cell_type": "code",
   "execution_count": 12,
   "metadata": {},
   "outputs": [
    {
     "data": {
      "application/vnd.jupyter.widget-view+json": {
       "model_id": "",
       "version_major": 2,
       "version_minor": 0
      },
      "text/plain": [
       "Canvas(toolbar=Toolbar(toolitems=[('Home', 'Reset original view', 'home', 'home'), ('Back', 'Back to previous …"
      ]
     },
     "metadata": {},
     "output_type": "display_data"
    }
   ],
   "source": [
    "fig = plt.figure(figsize=(10, 10))\n",
    "ax = fig.gca(projection='3d')\n",
    "ax.set_title(\"Explicit Euler, $g^{F}(x, t)$\")\n",
    "s = ax.plot_surface(T_g, X_g, g,\n",
    "                    linewidth=0, \n",
    "                    antialiased=False, \n",
    "                    cmap=cm.viridis)\n",
    "\n",
    "ax.set_xlabel('Time $t$')\n",
    "ax.set_ylabel('Rod Position $x$')\n",
    "plt.show();"
   ]
  },
  {
   "cell_type": "code",
   "execution_count": 13,
   "metadata": {},
   "outputs": [],
   "source": [
    "plt.close()"
   ]
  },
  {
   "cell_type": "markdown",
   "metadata": {},
   "source": [
    "Calculating the analytical solution and plotting:"
   ]
  },
  {
   "cell_type": "code",
   "execution_count": 14,
   "metadata": {},
   "outputs": [],
   "source": [
    "g_analytic = np.exp(-np.pi**2 * T_g) * np.sin(np.pi * X_g)"
   ]
  },
  {
   "cell_type": "code",
   "execution_count": 15,
   "metadata": {},
   "outputs": [
    {
     "data": {
      "application/vnd.jupyter.widget-view+json": {
       "model_id": "",
       "version_major": 2,
       "version_minor": 0
      },
      "text/plain": [
       "Canvas(toolbar=Toolbar(toolitems=[('Home', 'Reset original view', 'home', 'home'), ('Back', 'Back to previous …"
      ]
     },
     "metadata": {},
     "output_type": "display_data"
    }
   ],
   "source": [
    "fig = plt.figure(figsize=(10, 10))\n",
    "ax = fig.gca(projection='3d')\n",
    "ax.set_title(\"Analytic Solution, $g^{*}(x, t)$\")\n",
    "s = ax.plot_surface(T_g, X_g, g_analytic, \n",
    "                    linewidth=0, \n",
    "                    antialiased=False, \n",
    "                    cmap=cm.viridis)\n",
    "\n",
    "ax.set_xlabel('Time $t$')\n",
    "ax.set_ylabel('Rod Position $x$')\n",
    "plt.show();"
   ]
  },
  {
   "cell_type": "code",
   "execution_count": 16,
   "metadata": {},
   "outputs": [],
   "source": [
    "plt.close()"
   ]
  },
  {
   "cell_type": "markdown",
   "metadata": {},
   "source": [
    "Calculating the difference between the analytical solution and the explicit Euler solution, and plotting."
   ]
  },
  {
   "cell_type": "code",
   "execution_count": 17,
   "metadata": {},
   "outputs": [],
   "source": [
    "g_diff = g_analytic - g"
   ]
  },
  {
   "cell_type": "code",
   "execution_count": 18,
   "metadata": {},
   "outputs": [
    {
     "data": {
      "application/vnd.jupyter.widget-view+json": {
       "model_id": "",
       "version_major": 2,
       "version_minor": 0
      },
      "text/plain": [
       "Canvas(toolbar=Toolbar(toolitems=[('Home', 'Reset original view', 'home', 'home'), ('Back', 'Back to previous …"
      ]
     },
     "metadata": {},
     "output_type": "display_data"
    }
   ],
   "source": [
    "fig = plt.figure(figsize=(10, 10))\n",
    "ax = fig.gca(projection='3d')\n",
    "ax.set_title(\"Difference Analytic vs. FD\")\n",
    "s = ax.plot_surface(T_g, X_g, g_diff, \n",
    "                    linewidth=0, \n",
    "                    antialiased=False, \n",
    "                    cmap=cm.viridis)\n",
    "\n",
    "ax.set_xlabel('Time $t$')\n",
    "ax.set_ylabel('Rod Position $x$')\n",
    "plt.show();"
   ]
  },
  {
   "cell_type": "code",
   "execution_count": 19,
   "metadata": {},
   "outputs": [],
   "source": [
    "plt.close()"
   ]
  },
  {
   "cell_type": "markdown",
   "metadata": {},
   "source": [
    "### Error\n",
    "Checking the worst error of the Euler vs. analytical solution:"
   ]
  },
  {
   "cell_type": "code",
   "execution_count": 20,
   "metadata": {},
   "outputs": [
    {
     "name": "stdout",
     "output_type": "stream",
     "text": [
      "Max absolute difference: 0.0025775814242235406\n"
     ]
    }
   ],
   "source": [
    "print(\"Max absolute difference: {}\".format(np.max(np.abs(g_diff))))"
   ]
  },
  {
   "cell_type": "markdown",
   "metadata": {},
   "source": [
    "## Increasing the Granularity\n",
    "\n",
    "Now we decrease the step size in each dimension and solve using explicit Euler again."
   ]
  },
  {
   "cell_type": "code",
   "execution_count": 21,
   "metadata": {},
   "outputs": [],
   "source": [
    "dx = 0.01\n",
    "dt = 0.5*(dx**2)"
   ]
  },
  {
   "cell_type": "code",
   "execution_count": 22,
   "metadata": {},
   "outputs": [],
   "source": [
    "m2 = HeatEquation.HeatEquation(f, L=1, T=1, dx=dx, dt=dt)"
   ]
  },
  {
   "cell_type": "code",
   "execution_count": 23,
   "metadata": {},
   "outputs": [],
   "source": [
    "m2.ExplicitEuler()"
   ]
  },
  {
   "cell_type": "code",
   "execution_count": 24,
   "metadata": {},
   "outputs": [
    {
     "data": {
      "text/plain": [
       "True"
      ]
     },
     "execution_count": 24,
     "metadata": {},
     "output_type": "execute_result"
    }
   ],
   "source": [
    "m2.IsSolved"
   ]
  },
  {
   "cell_type": "markdown",
   "metadata": {},
   "source": [
    "Since the number of points on this grid is vastly greater than the previous one, the number of points used in the plot is greatly decreased."
   ]
  },
  {
   "cell_type": "code",
   "execution_count": 45,
   "metadata": {},
   "outputs": [],
   "source": [
    "t2, x2, g2 = m2.t[::50], m2.x[::2], m2.g[::2, ::50]\n",
    "T_g2, X_g2 = np.meshgrid(t2, x2)"
   ]
  },
  {
   "cell_type": "markdown",
   "metadata": {},
   "source": [
    "Plotting the Euler solution:"
   ]
  },
  {
   "cell_type": "code",
   "execution_count": 46,
   "metadata": {},
   "outputs": [
    {
     "data": {
      "application/vnd.jupyter.widget-view+json": {
       "model_id": "",
       "version_major": 2,
       "version_minor": 0
      },
      "text/plain": [
       "Canvas(toolbar=Toolbar(toolitems=[('Home', 'Reset original view', 'home', 'home'), ('Back', 'Back to previous …"
      ]
     },
     "metadata": {},
     "output_type": "display_data"
    }
   ],
   "source": [
    "fig = plt.figure(figsize=(10, 10))\n",
    "ax = fig.gca(projection='3d')\n",
    "ax.set_title(\"Finite Difference Solution, $g^{F}(x, t)$\")\n",
    "s = ax.plot_surface(T_g2, X_g2, g2,\n",
    "                    linewidth=0,\n",
    "                    antialiased=False,\n",
    "                    cmap=cm.viridis)\n",
    "\n",
    "ax.set_xlabel('Time $t$')\n",
    "ax.set_ylabel('Rod Position $x$')\n",
    "plt.show();"
   ]
  },
  {
   "cell_type": "code",
   "execution_count": 47,
   "metadata": {},
   "outputs": [],
   "source": [
    "plt.close()"
   ]
  },
  {
   "cell_type": "markdown",
   "metadata": {},
   "source": [
    "Plotting the difference between the analytical solution for the selected points, and the Euler solution:"
   ]
  },
  {
   "cell_type": "code",
   "execution_count": 48,
   "metadata": {},
   "outputs": [],
   "source": [
    "g_analytic2 = np.exp(-np.pi**2 * T_g2) * np.sin(np.pi * X_g2)\n",
    "g_diff2 = g_analytic2 - g2"
   ]
  },
  {
   "cell_type": "code",
   "execution_count": 49,
   "metadata": {},
   "outputs": [
    {
     "data": {
      "application/vnd.jupyter.widget-view+json": {
       "model_id": "",
       "version_major": 2,
       "version_minor": 0
      },
      "text/plain": [
       "Canvas(toolbar=Toolbar(toolitems=[('Home', 'Reset original view', 'home', 'home'), ('Back', 'Back to previous …"
      ]
     },
     "metadata": {},
     "output_type": "display_data"
    }
   ],
   "source": [
    "fig = plt.figure(figsize=(10, 10))\n",
    "ax = fig.gca(projection='3d')\n",
    "ax.set_title(\"Difference Analytic vs. FD\")\n",
    "s = ax.plot_surface(T_g2, X_g2, g_diff2, \n",
    "                    linewidth=0, \n",
    "                    antialiased=False, \n",
    "                    cmap=cm.viridis)\n",
    "\n",
    "ax.set_xlabel('Time $t$')\n",
    "ax.set_ylabel('Rod Position $x$')\n",
    "plt.show();"
   ]
  },
  {
   "cell_type": "code",
   "execution_count": 50,
   "metadata": {},
   "outputs": [],
   "source": [
    "plt.close()"
   ]
  },
  {
   "cell_type": "markdown",
   "metadata": {},
   "source": [
    "Checking the maximum error:"
   ]
  },
  {
   "cell_type": "code",
   "execution_count": 51,
   "metadata": {},
   "outputs": [
    {
     "name": "stdout",
     "output_type": "stream",
     "text": [
      "Max absolute difference: 6.052469419354223e-05\n"
     ]
    }
   ],
   "source": [
    "T_g2, X_g2 = np.meshgrid(m2.t, m2.x)\n",
    "g_analytic_full = np.exp(-np.pi**2 * T_g2) * np.sin(np.pi * X_g2)\n",
    "diff_full = g_analytic_full - m2.g\n",
    "print(\"Max absolute difference: {}\".format(np.max(np.abs(diff_full))))"
   ]
  }
 ],
 "metadata": {
  "kernelspec": {
   "display_name": "fysstk",
   "language": "python",
   "name": "fysstk"
  },
  "language_info": {
   "codemirror_mode": {
    "name": "ipython",
    "version": 3
   },
   "file_extension": ".py",
   "mimetype": "text/x-python",
   "name": "python",
   "nbconvert_exporter": "python",
   "pygments_lexer": "ipython3",
   "version": "3.7.4"
  }
 },
 "nbformat": 4,
 "nbformat_minor": 4
}
