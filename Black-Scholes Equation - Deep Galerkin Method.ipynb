{
  "nbformat": 4,
  "nbformat_minor": 0,
  "metadata": {
    "colab": {
      "name": "Black-Scholes Equation - Deep Galerkin Method",
      "provenance": [],
      "collapsed_sections": [],
      "toc_visible": true
    },
    "kernelspec": {
      "name": "python3",
      "display_name": "Python 3"
    },
    "accelerator": "GPU"
  },
  "cells": [
    {
      "cell_type": "markdown",
      "metadata": {
        "id": "nsQlXIeBO-gG",
        "colab_type": "text"
      },
      "source": [
        "# Deep Galerkin Method - Black-Scholes Equation"
      ]
    },
    {
      "cell_type": "code",
      "metadata": {
        "id": "hdZWwIkXNq2F",
        "colab_type": "code",
        "colab": {}
      },
      "source": [
        "try:\n",
        "  # %tensorflow_version only exists in Colab.\n",
        "  %tensorflow_version 2.x\n",
        "except Exception:\n",
        "  pass"
      ],
      "execution_count": 0,
      "outputs": []
    },
    {
      "cell_type": "code",
      "metadata": {
        "id": "qnDnfDnMPaFv",
        "colab_type": "code",
        "colab": {}
      },
      "source": [
        "from __future__ import absolute_import, division, print_function, unicode_literals\n",
        "import tensorflow as tf\n",
        "from tensorflow.keras.layers import Dense\n",
        "from tensorflow.keras import layers\n",
        "from tensorflow.keras import Model\n",
        "import numpy as np\n",
        "import matplotlib.pyplot as plt\n",
        "from matplotlib import cm\n",
        "from mpl_toolkits.mplot3d import axes3d"
      ],
      "execution_count": 0,
      "outputs": []
    },
    {
      "cell_type": "code",
      "metadata": {
        "id": "kcleMFM-PpGv",
        "colab_type": "code",
        "colab": {}
      },
      "source": [
        "tf.random.set_seed(4155)"
      ],
      "execution_count": 0,
      "outputs": []
    },
    {
      "cell_type": "markdown",
      "metadata": {
        "id": "ix1dYYs2Quy5",
        "colab_type": "text"
      },
      "source": [
        "## Option Model"
      ]
    },
    {
      "cell_type": "code",
      "metadata": {
        "id": "KRXb2qEDPtjd",
        "colab_type": "code",
        "colab": {}
      },
      "source": [
        "class OptionModel():\n",
        "\n",
        "\n",
        "  def __init__(self, direction=\"C\", S=100.0, K=110.0, r=0.02, v=0.2, T=1.0):\n",
        "    \"\"\"Constructor for the option model.\n",
        "\n",
        "    Parameters\n",
        "    ----------\n",
        "    direction : str\n",
        "      Direction of the option, either \"C\" for call or \"P\" for put\n",
        "    S : float\n",
        "      Initial price of the underlying\n",
        "    K : float\n",
        "      Strike price of the option\n",
        "    r : float\n",
        "      Risk-free rate\n",
        "    v : float\n",
        "      Volatility, i.e. standard deviation of the underlying\n",
        "    T : float\n",
        "      Expiry date of the option\n",
        "    \"\"\"\n",
        "    self.direction = direction\n",
        "    self.S = tf.Variable(S, name=\"S\", dtype=tf.float32)\n",
        "    self.K = tf.Variable(K, name=\"K\", dtype=tf.float32)\n",
        "    self.r = tf.Variable(r, name=\"r\", dtype=tf.float32)\n",
        "    self.v = tf.Variable(v, name=\"sigma\", dtype=tf.float32)\n",
        "    self.T = tf.Variable(T, name=\"T\", dtype=tf.float32)\n",
        "\n",
        "\n",
        "  def set_domains(self, S_min=None, S_max=None):\n",
        "    if not S_max:\n",
        "      self.S_max = 2 * self.S.numpy()\n",
        "    if not S_min:\n",
        "      self.S_min = 0.2 * self.S.numpy()\n",
        "      \n",
        "    s_dom = np.linspace(self.S_min, self.S_max, 365)\n",
        "    t_max = self.T.numpy()\n",
        "    t_dom = np.linspace(0, t_max, 365)\n",
        "\n",
        "    T, S = np.meshgrid(t_dom, s_dom)\n",
        "      \n",
        "    s = S.ravel()\n",
        "    t = T.ravel()\n",
        "\n",
        "    self.s = tf.convert_to_tensor(s[:, None], dtype=tf.float32)\n",
        "    self.t = tf.convert_to_tensor(t[:, None], dtype=tf.float32)\n",
        "    self.points = tf.concat([self.t,self.s],1)"
      ],
      "execution_count": 0,
      "outputs": []
    },
    {
      "cell_type": "markdown",
      "metadata": {
        "id": "1S22w3LlQ6MB",
        "colab_type": "text"
      },
      "source": [
        "## Deep Galerkin Method - Model\n",
        "\n",
        "For the Deep Galerkin Method we define a model with similar architecture to an LSTM model. \n",
        "\n",
        "### Deep Galerkin Layer / LSTM Layer"
      ]
    },
    {
      "cell_type": "code",
      "metadata": {
        "id": "2uBeCMz7QotZ",
        "colab_type": "code",
        "colab": {}
      },
      "source": [
        "class DGM_layer(layers.Layer):\n",
        "\n",
        "  def __init__(self, units=50):\n",
        "    super(DGM_layer, self).__init__()\n",
        "    self.units = units\n",
        "\n",
        "  def build(self, input_shape):\n",
        "    self.U = self.add_weight(name=\"U\", shape=(input_shape[-1], self.units),\n",
        "                             initializer=tf.initializers.GlorotUniform(),\n",
        "                             trainable=True)\n",
        "    self.W = self.add_weight(name=\"W\", shape=(self.units, self.units),\n",
        "                             initializer=tf.initializers.GlorotUniform(),\n",
        "                             trainable=True)\n",
        "    \n",
        "    self.B = self.add_weight(name=\"B\", shape=(self.units,),\n",
        "                             initializer=tf.initializers.GlorotUniform(),\n",
        "                             trainable=True)\n",
        "\n",
        "  def call(self, X, S):\n",
        "    return tf.nn.tanh(tf.matmul(X, self.U) + tf.matmul(S, self.W) + self.B)"
      ],
      "execution_count": 0,
      "outputs": []
    },
    {
      "cell_type": "markdown",
      "metadata": {
        "id": "eC-xRNtMRVr2",
        "colab_type": "text"
      },
      "source": [
        "### Neural Network Model\n",
        "\n",
        "The model used for the Deep Galerkin Method, using the layer defined above is as follows:"
      ]
    },
    {
      "cell_type": "code",
      "metadata": {
        "id": "LP6wo8VJRuPS",
        "colab_type": "code",
        "colab": {}
      },
      "source": [
        "class DGM(Model):\n",
        "  def __init__(self):\n",
        "    super(DGM, self).__init__()\n",
        "    self.S_1 = Dense(50, input_shape= (2,) , activation=\"tanh\")\n",
        "    self.Z_1 = DGM_layer(50)\n",
        "    self.G_1 = DGM_layer(50)\n",
        "    self.R_1 = DGM_layer(50)\n",
        "    self.H_1 = DGM_layer(50)\n",
        "\n",
        "    self.Z_2 = DGM_layer(50)\n",
        "    self.G_2 = DGM_layer(50)\n",
        "    self.R_2 = DGM_layer(50)\n",
        "    self.H_2 = DGM_layer(50)\n",
        "\n",
        "    self.Z_3 = DGM_layer(50)\n",
        "    self.G_3 = DGM_layer(50)\n",
        "    self.R_3 = DGM_layer(50)\n",
        "    self.H_3 = DGM_layer(50)\n",
        "\n",
        "    self.O = Dense(1)\n",
        "\n",
        "  def call(self, t, s):\n",
        "    X = tf.concat([t, s], 1)\n",
        "    S1 = self.S_1(X)\n",
        "\n",
        "    Z = self.Z_1(X, S1)\n",
        "    G = self.G_1(X, S1)\n",
        "    R = self.R_1(X, S1)\n",
        "    H = self.H_1(X, S1 * R)\n",
        "    S = (1 - G) * H + Z * S1\n",
        "\n",
        "    Z = self.Z_2(X, S)\n",
        "    G = self.G_2(X, S1)\n",
        "    R = self.R_2(X, S)\n",
        "    H = self.H_2(X, S * R)\n",
        "    S = (1 - G) * H + Z * S\n",
        "\n",
        "    Z = self.Z_3(X, S)\n",
        "    G = self.G_3(X, S1)\n",
        "    R = self.R_3(X, S)\n",
        "    H = self.H_3(X, S * R)\n",
        "    S = (1 - G) * H + Z * S\n",
        "\n",
        "    return self.O(S)\n"
      ],
      "execution_count": 0,
      "outputs": []
    },
    {
      "cell_type": "markdown",
      "metadata": {
        "id": "TDFfJqFsXYVm",
        "colab_type": "text"
      },
      "source": [
        "### Training Loss\n",
        "Since we are not using batches during training, I use the mean loss to store the training loss for each iteration. Then the loss at each training iteration is just equal to the loss defined in the loss function below."
      ]
    },
    {
      "cell_type": "code",
      "metadata": {
        "id": "jKP2Mv7hYIoK",
        "colab_type": "code",
        "colab": {}
      },
      "source": [
        "train_loss = tf.keras.metrics.Mean(name='train_loss')"
      ],
      "execution_count": 0,
      "outputs": []
    },
    {
      "cell_type": "markdown",
      "metadata": {
        "id": "azGyysYVSJxK",
        "colab_type": "text"
      },
      "source": [
        "### Optimizer\n",
        "\n",
        "The authors recommend using the ADAM optimizer."
      ]
    },
    {
      "cell_type": "code",
      "metadata": {
        "id": "r5w8ihxJR2QF",
        "colab_type": "code",
        "colab": {}
      },
      "source": [
        "optimizer = tf.keras.optimizers.Adam()"
      ],
      "execution_count": 0,
      "outputs": []
    },
    {
      "cell_type": "markdown",
      "metadata": {
        "id": "pBXo29RkSWt4",
        "colab_type": "text"
      },
      "source": [
        "### Sampling Points\n"
      ]
    },
    {
      "cell_type": "code",
      "metadata": {
        "id": "E6z6RR3-SaSq",
        "colab_type": "code",
        "colab": {}
      },
      "source": [
        "@tf.function\n",
        "def generate_samples(T_max, S_min, S_max, N_samples=500):\n",
        "  B1_s = tf.random.uniform((N, 1), minval=S_min, maxval=S_max)\n",
        "  B1_t = tf.random.uniform((N, 1), minval=0.0, maxval=T_max)\n",
        "  B1 = tf.concat([B1_t, B1_s], 1)\n",
        "\n",
        "  B2_s = tf.where(tf.random.uniform((N, 1)) < 0.5, \n",
        "                  S_min, \n",
        "                  S_max)\n",
        "  B2_t = tf.random.uniform((N, 1), minval=0.0, maxval=T_max)\n",
        "  B2 = tf.concat([B2_t, B2_s], 1)\n",
        "\n",
        "  B3_s = tf.random.uniform((N, 1), minval=S_min, maxval=S_max)\n",
        "  B3_t = T_max * tf.ones_like(B3_s)\n",
        "  B3 = tf.concat([B3_t, B3_s], 1)\n",
        "\n",
        "  return B1, B2, B3"
      ],
      "execution_count": 0,
      "outputs": []
    },
    {
      "cell_type": "markdown",
      "metadata": {
        "id": "PCunVL2nSuc9",
        "colab_type": "text"
      },
      "source": [
        "### Option Pay-Off Functions:\n",
        "\n",
        "The pay-off function for call and put options.\n",
        "\n",
        "For an American call option, the pay-off is zero whenever the market price of the underlying security is below the strike price K. Thus: $$G^{Call}(S_t, t) = max(S_t - K, 0)$$\n",
        "\n",
        "For an American put option, the pay-off is zero whenever the market price of the underlying security is greater than the strike price K. Thus:\n",
        "$$G^{Put}(S_t, t) = max(K - S_t, 0)$$"
      ]
    },
    {
      "cell_type": "code",
      "metadata": {
        "id": "y-cOW18UUdFy",
        "colab_type": "code",
        "colab": {}
      },
      "source": [
        "def G_Call(S, K):\n",
        "  return tf.maximum(S - K, 0)\n",
        "\n",
        "def G_Put(S, K):\n",
        "  return tf.maximum(K - S, 0)"
      ],
      "execution_count": 0,
      "outputs": []
    },
    {
      "cell_type": "markdown",
      "metadata": {
        "id": "_ftw2b1CV3Dd",
        "colab_type": "text"
      },
      "source": [
        "### Loss Function:\n",
        "The loss function used to train the model."
      ]
    },
    {
      "cell_type": "code",
      "metadata": {
        "id": "lXl5wYp5Us-x",
        "colab_type": "code",
        "colab": {}
      },
      "source": [
        "@tf.function\n",
        "def Loss(model, option, B1, B2, B3):\n",
        "  r, v, K = option.r, option.v, option.K\n",
        "  t, S = B1[:, 0, None], B1[:, 1, None]\n",
        "  with tf.GradientTape() as d:\n",
        "    d.watch(t)\n",
        "    d.watch(S)\n",
        "    with tf.GradientTape() as d2:\n",
        "      d2.watch(t)\n",
        "      d2.watch(S)\n",
        "      V_hat = model(t, S)\n",
        "    dV_dt, dV_dS = d2.gradient(V_hat, [t, S])\n",
        "  d2V_dS2 = d.gradient(dV_dS, S)\n",
        "  V_eq = dV_dt + r * S * dV_dS + 0.5 * v**2 * S**2 * d2V_dS2 - r * V_hat\n",
        "\n",
        "  J_1 = tf.reduce_mean(tf.square(V_eq))\n",
        "\n",
        "  t, S = B2[:, 0, None], B2[:, 1, None]\n",
        "  \n",
        "  if option.direction == \"C\":\n",
        "    g_func = G_Call\n",
        "  elif option.direction == \"P\":\n",
        "    g_func = G_Put\n",
        "  else:\n",
        "    g_func = G_Call\n",
        "  \n",
        "  g_hat = g_func(S, K)\n",
        "  V_boundary = model(t, S)\n",
        "\n",
        "  J_2 = tf.reduce_mean(tf.square(tf.maximum(g_hat - V_boundary, 0)))\n",
        "\n",
        "  t, S = B3[:, 0, None], B3[:, 1, None]\n",
        "  g_terminal = g_func(S, K)\n",
        "  V_terminal = model(t, S)\n",
        "\n",
        "  J_3 = tf.reduce_mean(tf.square(V_terminal - g_terminal))\n",
        "  \n",
        "  return J_1 + J_2 + J_3"
      ],
      "execution_count": 0,
      "outputs": []
    },
    {
      "cell_type": "markdown",
      "metadata": {
        "id": "WCnF9yx9YnsX",
        "colab_type": "text"
      },
      "source": [
        "### Training\n",
        "\n",
        "Run the training. The pre-training filtering of the sampled points at each step is optional with the `filter` flag."
      ]
    },
    {
      "cell_type": "code",
      "metadata": {
        "id": "FgWJk6z2V_-3",
        "colab_type": "code",
        "colab": {}
      },
      "source": [
        "@tf.function\n",
        "def train_step(model, option, B1, B2, B3, filter=False):\n",
        "  if filter:\n",
        "    if option.direction == \"C\":\n",
        "      g_func = G_Call\n",
        "    elif option.direction == \"P\":\n",
        "      g_func = G_Put\n",
        "    else:\n",
        "      g_func = G_Call\n",
        "\n",
        "    # Filter samples\n",
        "    v_hat = model(B1[:, 0, None], B1[:, 1, None])\n",
        "    g_hat = g_func(B1[:, 1, None], option.K)\n",
        "    mask = tf.greater(v_hat, g_hat)\n",
        "    B1 = tf.boolean_mask(B1, mask[:, -1])\n",
        "\n",
        "    v_hat = model(B2[:, 0, None], B2[:, 1, None])\n",
        "    g_hat = g_func(B2[:, 1, None], option.K)\n",
        "    mask = tf.less_equal(v_hat, g_hat)\n",
        "    B2 = tf.boolean_mask(B2, mask[:, -1])\n",
        "\n",
        "  with tf.GradientTape() as d:\n",
        "    estimated_loss = Loss(model, option, B1, B2, B3)\n",
        "  gradients = d.gradient(estimated_loss, model.trainable_variables)\n",
        "  optimizer.apply_gradients(zip(gradients, model.trainable_variables))\n",
        "\n",
        "  train_loss([estimated_loss])"
      ],
      "execution_count": 0,
      "outputs": []
    },
    {
      "cell_type": "markdown",
      "metadata": {
        "id": "pzNsGkgIY6LK",
        "colab_type": "text"
      },
      "source": [
        "## Applications\n",
        "\n",
        "### American Call Option\n",
        "\n",
        "Run on an American call option. \n",
        "\n",
        "#### Initialize the model:"
      ]
    },
    {
      "cell_type": "code",
      "metadata": {
        "id": "3_BXDs_PWk6p",
        "colab_type": "code",
        "colab": {}
      },
      "source": [
        "call_model = DGM()"
      ],
      "execution_count": 0,
      "outputs": []
    },
    {
      "cell_type": "markdown",
      "metadata": {
        "id": "oSQSZZNqa22O",
        "colab_type": "text"
      },
      "source": [
        "#### Apple Inc. Call Option\n",
        "\n",
        "The closing price of Apple on 18.12.2019 was $279.74. For this example, we use the 180 day volatility, [estimated at](https://www.alphaquery.com/stock/AAPL/volatility-option-statistics/180-day/historical-volatility) 23.17%.\n",
        "\n",
        "To estimate the risk free rate, the [10-year U.S. Treasury rate](https://ycharts.com/indicators/10_year_treasury_rate) is often used. This stood at 1.92% on 18.12.2019. \n",
        "\n",
        "The strike price is set at 10% above the market price of $279.74.\n",
        "\n"
      ]
    },
    {
      "cell_type": "code",
      "metadata": {
        "id": "kJdK97F2a9Yc",
        "colab_type": "code",
        "colab": {}
      },
      "source": [
        "s_market = 279.74\n",
        "volatility = 0.2317\n",
        "strike = 1.1 * s_market\n",
        "risk_free_rate = 0.0192\n",
        "\n",
        "call_option = OptionModel(direction=\"C\", \n",
        "                          S=s_market, \n",
        "                          K=strike, \n",
        "                          r=risk_free_rate, \n",
        "                          v=volatility, \n",
        "                          T=1.0)\n",
        "\n",
        "call_option.set_domains()"
      ],
      "execution_count": 0,
      "outputs": []
    },
    {
      "cell_type": "markdown",
      "metadata": {
        "id": "wvnfa9ThcakD",
        "colab_type": "text"
      },
      "source": [
        "Run the training with:\n",
        "- 100 000 iterations\n",
        "- 1000 samples points at each iteration\n",
        "- Upper limit for the price: `S_u = 2 * s_market`\n",
        "- Lower limit for the price `S_l = 0.2 * s_market`\n",
        "- Stopping time `T_u = 1.0`\n"
      ]
    },
    {
      "cell_type": "code",
      "metadata": {
        "id": "JHa1ixv7atJs",
        "colab_type": "code",
        "colab": {
          "base_uri": "https://localhost:8080/",
          "height": 1000
        },
        "outputId": "0f4f0b08-b095-48d3-9bbb-6675e0be6dce"
      },
      "source": [
        "num_iter = 100000\n",
        "\n",
        "T_u = 1.0\n",
        "S_l = 0.2 * s_market\n",
        "S_u = 2 * s_market\n",
        "N = 1000\n",
        "\n",
        "for i in range(num_iter):\n",
        "  # Generate samples\n",
        "  B1, B2, B3 = generate_samples(T_u, S_l, S_u, N)\n",
        "\n",
        "  # Run training step\n",
        "  train_step(call_model, call_option, B1, B2, B3)\n",
        "\n",
        "  \n",
        "  if i % 1000 == 0:\n",
        "    template = 'Iteration {}, Loss: {}'\n",
        "    print(template.format(i, train_loss.result()))\n",
        "\n",
        "  train_loss.reset_states()"
      ],
      "execution_count": 15,
      "outputs": [
        {
          "output_type": "stream",
          "text": [
            "Iteration 0, Loss: 41248.375\n",
            "Iteration 1000, Loss: 12234.953125\n",
            "Iteration 2000, Loss: 2755.7705078125\n",
            "Iteration 3000, Loss: 740.0087280273438\n",
            "Iteration 4000, Loss: 209.8939971923828\n",
            "Iteration 5000, Loss: 25.100955963134766\n",
            "Iteration 6000, Loss: 6.7822465896606445\n",
            "Iteration 7000, Loss: 3.9453072547912598\n",
            "Iteration 8000, Loss: 3.5041580200195312\n",
            "Iteration 9000, Loss: 8.03355884552002\n",
            "Iteration 10000, Loss: 4.280826568603516\n",
            "Iteration 11000, Loss: 3.217134952545166\n",
            "Iteration 12000, Loss: 4.461888790130615\n",
            "Iteration 13000, Loss: 2.9581210613250732\n",
            "Iteration 14000, Loss: 4.247420310974121\n",
            "Iteration 15000, Loss: 20.787525177001953\n",
            "Iteration 16000, Loss: 2.8402342796325684\n",
            "Iteration 17000, Loss: 2.3564252853393555\n",
            "Iteration 18000, Loss: 2.467094898223877\n",
            "Iteration 19000, Loss: 2.0362868309020996\n",
            "Iteration 20000, Loss: 4.081013202667236\n",
            "Iteration 21000, Loss: 2.3814079761505127\n",
            "Iteration 22000, Loss: 4.931258201599121\n",
            "Iteration 23000, Loss: 1.7477608919143677\n",
            "Iteration 24000, Loss: 1.6236714124679565\n",
            "Iteration 25000, Loss: 5.04157829284668\n",
            "Iteration 26000, Loss: 3.180631637573242\n",
            "Iteration 27000, Loss: 3.7455315589904785\n",
            "Iteration 28000, Loss: 34.29753875732422\n",
            "Iteration 29000, Loss: 4.930290222167969\n",
            "Iteration 30000, Loss: 3.253586769104004\n",
            "Iteration 31000, Loss: 3.7063584327697754\n",
            "Iteration 32000, Loss: 2.790987014770508\n",
            "Iteration 33000, Loss: 5.95089864730835\n",
            "Iteration 34000, Loss: 2.0460293292999268\n",
            "Iteration 35000, Loss: 1.7543268203735352\n",
            "Iteration 36000, Loss: 1.6436352729797363\n",
            "Iteration 37000, Loss: 1.9043283462524414\n",
            "Iteration 38000, Loss: 1.804571270942688\n",
            "Iteration 39000, Loss: 1.629883050918579\n",
            "Iteration 40000, Loss: 1.1640136241912842\n",
            "Iteration 41000, Loss: 6.08443546295166\n",
            "Iteration 42000, Loss: 3.5674240589141846\n",
            "Iteration 43000, Loss: 2.9776265621185303\n",
            "Iteration 44000, Loss: 3.648606777191162\n",
            "Iteration 45000, Loss: 3.3331587314605713\n",
            "Iteration 46000, Loss: 2.4986062049865723\n",
            "Iteration 47000, Loss: 3.4022669792175293\n",
            "Iteration 48000, Loss: 1.7855150699615479\n",
            "Iteration 49000, Loss: 1.637076735496521\n",
            "Iteration 50000, Loss: 2.435002326965332\n",
            "Iteration 51000, Loss: 1.9759001731872559\n",
            "Iteration 52000, Loss: 1.6801214218139648\n",
            "Iteration 53000, Loss: 1.4426674842834473\n",
            "Iteration 54000, Loss: 7.386279106140137\n",
            "Iteration 55000, Loss: 3.1783924102783203\n",
            "Iteration 56000, Loss: 3.099282741546631\n",
            "Iteration 57000, Loss: 1.7049667835235596\n",
            "Iteration 58000, Loss: 1.7890725135803223\n",
            "Iteration 59000, Loss: 1.7088981866836548\n",
            "Iteration 60000, Loss: 2.1519346237182617\n",
            "Iteration 61000, Loss: 1.7157776355743408\n",
            "Iteration 62000, Loss: 15.475900650024414\n",
            "Iteration 63000, Loss: 1.7067698240280151\n",
            "Iteration 64000, Loss: 2.2143497467041016\n",
            "Iteration 65000, Loss: 8.541059494018555\n",
            "Iteration 66000, Loss: 1.8582645654678345\n",
            "Iteration 67000, Loss: 2.481551170349121\n",
            "Iteration 68000, Loss: 2.1340279579162598\n",
            "Iteration 69000, Loss: 1.1684377193450928\n",
            "Iteration 70000, Loss: 130.95652770996094\n",
            "Iteration 71000, Loss: 2.332820415496826\n",
            "Iteration 72000, Loss: 1.4977062940597534\n",
            "Iteration 73000, Loss: 1.3076844215393066\n",
            "Iteration 74000, Loss: 1.336888313293457\n",
            "Iteration 75000, Loss: 1.3269026279449463\n",
            "Iteration 76000, Loss: 14.570256233215332\n",
            "Iteration 77000, Loss: 5.138185977935791\n",
            "Iteration 78000, Loss: 2.6831703186035156\n",
            "Iteration 79000, Loss: 1.8607470989227295\n",
            "Iteration 80000, Loss: 1.187178373336792\n",
            "Iteration 81000, Loss: 1.0166163444519043\n",
            "Iteration 82000, Loss: 2.3331289291381836\n",
            "Iteration 83000, Loss: 0.83338862657547\n",
            "Iteration 84000, Loss: 0.8931031823158264\n",
            "Iteration 85000, Loss: 3.0959596633911133\n",
            "Iteration 86000, Loss: 1.3068482875823975\n",
            "Iteration 87000, Loss: 6.304561614990234\n",
            "Iteration 88000, Loss: 3.9160497188568115\n",
            "Iteration 89000, Loss: 3.342258930206299\n",
            "Iteration 90000, Loss: 2.871809482574463\n",
            "Iteration 91000, Loss: 1.9476897716522217\n",
            "Iteration 92000, Loss: 2.267782688140869\n",
            "Iteration 93000, Loss: 1.4005569219589233\n",
            "Iteration 94000, Loss: 3.495309829711914\n",
            "Iteration 95000, Loss: 4.0352325439453125\n",
            "Iteration 96000, Loss: 3.2253763675689697\n",
            "Iteration 97000, Loss: 2.1286349296569824\n",
            "Iteration 98000, Loss: 2.0088589191436768\n",
            "Iteration 99000, Loss: 1.810753583908081\n"
          ],
          "name": "stdout"
        }
      ]
    },
    {
      "cell_type": "markdown",
      "metadata": {
        "id": "koiZ1bl_lYwx",
        "colab_type": "text"
      },
      "source": [
        "### Results\n",
        "\n",
        "The Apple american call option value function, $V(t, S)$  is estimated by the trained model."
      ]
    },
    {
      "cell_type": "code",
      "metadata": {
        "id": "G1T6kRESlnoe",
        "colab_type": "code",
        "colab": {}
      },
      "source": [
        "AAPL_call = call_model(call_option.t, call_option.s)"
      ],
      "execution_count": 0,
      "outputs": []
    },
    {
      "cell_type": "markdown",
      "metadata": {
        "id": "cGU6UfPtmS4n",
        "colab_type": "text"
      },
      "source": [
        "Plotting the option value function of time and price of the stock."
      ]
    },
    {
      "cell_type": "code",
      "metadata": {
        "id": "GcKlbaCemdvu",
        "colab_type": "code",
        "colab": {
          "base_uri": "https://localhost:8080/",
          "height": 575
        },
        "outputId": "009778ed-a2c4-4d9a-9531-320de5d2711a"
      },
      "source": [
        "t_grid = call_option.t.numpy().reshape((365, 365))\n",
        "s_grid = call_option.s.numpy().reshape((365, 365))\n",
        "V_hat = tf.reshape(AAPL_call, (365, 365))\n",
        "\n",
        "fig = plt.figure(figsize=(10,10))\n",
        "ax = fig.gca(projection='3d')\n",
        "ax.set_title('$V(t, S)$ - Deep Galerkin Method Solution')\n",
        "\n",
        "s = ax.plot_surface(t_grid, \n",
        "                    s_grid,\n",
        "                    V_hat,\n",
        "                    linewidth=0,\n",
        "                    antialiased=False,\n",
        "                    cmap=cm.viridis)\n",
        "\n",
        "ax.set_xlabel('Time $t$')\n",
        "ax.set_ylabel('AAPL Stock Price $S_t$');"
      ],
      "execution_count": 19,
      "outputs": [
        {
          "output_type": "display_data",
          "data": {
            "image/png": "[encoded data removed]",
            "text/plain": [
              "<Figure size 720x720 with 1 Axes>"
            ]
          },
          "metadata": {
            "tags": []
          }
        }
      ]
    },
    {
      "cell_type": "markdown",
      "metadata": {
        "id": "hH3O3N5noAuQ",
        "colab_type": "text"
      },
      "source": [
        "The estimated AAPL option price today for an american call with expiry in one year and strike $307.714:"
      ]
    },
    {
      "cell_type": "code",
      "metadata": {
        "id": "p3Y3ZwlZpSON",
        "colab_type": "code",
        "colab": {
          "base_uri": "https://localhost:8080/",
          "height": 34
        },
        "outputId": "147606a6-3249-4ec1-f651-64b65c4e54c7"
      },
      "source": [
        "t0, s0 = tf.constant(0.0, shape=(1, 1)), tf.constant(s_market, shape=(1, 1))\n",
        "AAPL_call_1year = call_model(t0, s0)\n",
        "print(\"V(0, S_0) = {}\".format(AAPL_call_1year.numpy()[0, 0]))"
      ],
      "execution_count": 43,
      "outputs": [
        {
          "output_type": "stream",
          "text": [
            "V(0, S_0) = 17.138694763183594\n"
          ],
          "name": "stdout"
        }
      ]
    },
    {
      "cell_type": "markdown",
      "metadata": {
        "id": "xgjG9_0QtOKX",
        "colab_type": "text"
      },
      "source": [
        "Using [this](https://www.cboe.com/framed/IVolframed.aspx?content=https%3a%2f%2fcboe.ivolatility.com%2fcalc%2findex.j%3fcontract%3d18589082-4C36-4C27-9F3A-4AB06BF92FB6&sectionName=SEC_TRADING_TOOLS&title=CBOE%20-%20IVolatility%20Services) option price calculator with the same parameters, the estimated price is $17.1940. The pricing method used by this calculator is not known, but nonetheless our result is quite close."
      ]
    },
    {
      "cell_type": "markdown",
      "metadata": {
        "id": "ceQ6ly3Tt1wR",
        "colab_type": "text"
      },
      "source": [
        "### Saving the weights"
      ]
    },
    {
      "cell_type": "code",
      "metadata": {
        "id": "GkjTQZ24eAXK",
        "colab_type": "code",
        "colab": {
          "base_uri": "https://localhost:8080/",
          "height": 122
        },
        "outputId": "4ac9ccdd-5d85-4309-9778-c17209f68245"
      },
      "source": [
        "from google.colab import drive\n",
        "drive.mount('/content/drive/', force_remount=True)"
      ],
      "execution_count": 44,
      "outputs": [
        {
          "output_type": "stream",
          "text": [
            "Go to this URL in a browser: https://accounts.google.com/o/oauth2/auth?client_id=947318989803-6bn6qk8qdgf4n4g3pfee6491hc0brc4i.apps.googleusercontent.com&redirect_uri=urn%3aietf%3awg%3aoauth%3a2.0%3aoob&response_type=code&scope=email%20https%3a%2f%2fwww.googleapis.com%2fauth%2fdocs.test%20https%3a%2f%2fwww.googleapis.com%2fauth%2fdrive%20https%3a%2f%2fwww.googleapis.com%2fauth%2fdrive.photos.readonly%20https%3a%2f%2fwww.googleapis.com%2fauth%2fpeopleapi.readonly\n",
            "\n",
            "Enter your authorization code:\n",
            "··········\n",
            "Mounted at /content/drive/\n"
          ],
          "name": "stdout"
        }
      ]
    },
    {
      "cell_type": "code",
      "metadata": {
        "id": "eFxKUj9-t-Xt",
        "colab_type": "code",
        "colab": {}
      },
      "source": [
        "call_model.save_weights('drive/My Drive/Colab Notebooks/models/DGM_aapl_call.hf5')"
      ],
      "execution_count": 0,
      "outputs": []
    }
  ]
}